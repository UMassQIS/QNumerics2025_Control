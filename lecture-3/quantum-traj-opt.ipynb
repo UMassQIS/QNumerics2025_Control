{
 "cells": [
  {
   "cell_type": "code",
   "execution_count": null,
   "id": "f7733187",
   "metadata": {
    "vscode": {
     "languageId": "julia"
    }
   },
   "outputs": [],
   "source": []
  },
  {
   "cell_type": "markdown",
   "id": "0cb0bc52",
   "metadata": {},
   "source": [
    "# I. Rotations\n",
    "-----"
   ]
  },
  {
   "cell_type": "markdown",
   "id": "1cd5b6a7",
   "metadata": {},
   "source": [
    "## Goals\n",
    "- Geodesics\n",
    "- Controllability of LTI systems\n",
    "- Dynamical Lie algebras and reachability"
   ]
  },
  {
   "cell_type": "code",
   "execution_count": null,
   "id": "d51c932d",
   "metadata": {
    "vscode": {
     "languageId": "julia"
    }
   },
   "outputs": [],
   "source": []
  },
  {
   "cell_type": "markdown",
   "id": "2c04778e",
   "metadata": {},
   "source": [
    "# II. Demos\n",
    "-----"
   ]
  },
  {
   "cell_type": "markdown",
   "id": "cbe3c7be",
   "metadata": {},
   "source": [
    "- introduce IPOPT\n",
    "- do stuff in Piccolo"
   ]
  },
  {
   "cell_type": "markdown",
   "id": "1a2dc177",
   "metadata": {},
   "source": [
    "From the IPOPT documentation (https://coin-or.github.io/Ipopt/OUTPUT.html):\n",
    "\n",
    "- **inf_pr**: The unscaled constraint violation at the current point. This quantity is the infinity-norm (max) of the (unscaled) constraints ( gL≤g(x)≤gU in (NLP)). During the restoration phase, this value remains the constraint violation of the original problem at the current point. The option inf_pr_output can be used to switch to the printing of a different quantity.\n",
    "\n",
    "- **inf_du**: The scaled dual infeasibility at the current point. This quantity measure the infinity-norm (max) of the internal dual infeasibility, Eq. (4a) in the implementation paper [12], including inequality constraints reformulated using slack variables and problem scaling. During the restoration phase, this is the value of the dual infeasibility for the restoration phase problem.\n",
    "\n",
    "- **lg(mu)**: log10 of the value of the barrier parameter μ.\n",
    "\n",
    "- **||d||**: The infinity norm (max) of the primal step (for the original variables x and the internal slack variables s). During the restoration phase, this value includes the values of additional variables, p and n (see Eq. (30) in [12]).\n",
    "\n",
    "- **lg(rg)**: log10 of the value of the regularization term for the Hessian of the Lagrangian in the augmented system ( δw in Eq. (26) and Section 3.1 in [12]). A dash (\"-\") indicates that no regularization was done.\n",
    "\n",
    "- **alpha_du**: The stepsize for the dual variables ( αzk in Eq. (14c) in [12])."
   ]
  },
  {
   "cell_type": "markdown",
   "id": "b2ad6c62",
   "metadata": {},
   "source": []
  }
 ],
 "metadata": {
  "language_info": {
   "name": "python"
  }
 },
 "nbformat": 4,
 "nbformat_minor": 5
}
