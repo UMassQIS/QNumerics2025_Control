{
 "cells": [
  {
   "cell_type": "code",
   "execution_count": null,
   "id": "f7733187",
   "metadata": {},
   "outputs": [],
   "source": [
    "using Piccolo\n",
    "using LinearAlgebra\n",
    "using CairoMakie\n",
    "\n",
    "const ⊗ = kron"
   ]
  },
  {
   "cell_type": "markdown",
   "id": "0cb0bc52",
   "metadata": {},
   "source": [
    "# I. Rotations\n",
    "-----"
   ]
  },
  {
   "cell_type": "markdown",
   "id": "1cd5b6a7",
   "metadata": {},
   "source": [
    "## Goals\n",
    "- Geodesics\n",
    "- Controllability of LTI systems\n",
    "- Dynamical Lie algebras and reachability"
   ]
  },
  {
   "cell_type": "markdown",
   "id": "f19d82ea",
   "metadata": {},
   "source": [
    "_Comparing initialization and optimization when restricted to a feasible manifold, and how warm starts are enabled by direct control._\n",
    "\n",
    "![Initialization comparison between direct and indirect optimization.](../assets/fig2_feas-manifold.png)"
   ]
  },
  {
   "cell_type": "code",
   "execution_count": null,
   "id": "c3f2b9bb",
   "metadata": {},
   "outputs": [],
   "source": [
    "U_goal = PAULIS.X\n",
    "T = 50\n",
    "Δt = 0.2\n",
    "\n",
    "# U_goal = exp(-im * H_eff * T * Δt)\n",
    "H_eff = im * log(U_goal / T / Δt)"
   ]
  },
  {
   "cell_type": "code",
   "execution_count": null,
   "id": "6ad73fb7",
   "metadata": {},
   "outputs": [],
   "source": [
    "# Draw the geodesic."
   ]
  },
  {
   "cell_type": "markdown",
   "id": "cdb60b48",
   "metadata": {},
   "source": [
    "## Controllability"
   ]
  },
  {
   "cell_type": "markdown",
   "id": "6fa2012b",
   "metadata": {},
   "source": [
    "- Quick check: What happens when we kick a system $x_{n+1} = A x_n + B u_n$?"
   ]
  },
  {
   "cell_type": "markdown",
   "id": "739b8cd6",
   "metadata": {},
   "source": [
    "\\begin{equation}\n",
    "\\mathcal{C} = \\begin{bmatrix}\n",
    "    B & A B & A^2 B & \\cdots & A^{n-1} B\n",
    "\\end{bmatrix}\n",
    "\\end{equation}\n",
    "\n",
    "- Quick check: Why did we stop at $n-1$?"
   ]
  },
  {
   "cell_type": "markdown",
   "id": "7e78317d",
   "metadata": {},
   "source": [
    "**Example**\n",
    "- Test on a linear system in 2D. Recall our $F = ma$ system."
   ]
  },
  {
   "cell_type": "code",
   "execution_count": null,
   "id": "d752aa67",
   "metadata": {},
   "outputs": [],
   "source": [
    "function continuous_to_discrete(A, B, h)\n",
    "    # Construct augmented matrix for matrix exponential\n",
    "    augmented_matrix = [\n",
    "        A B; \n",
    "        zeros(size(B, 2), size(A, 1)) zeros(size(B, 2), size(B, 2))\n",
    "    ]\n",
    "\n",
    "    # Compute matrix exponential\n",
    "    exp_matrix = exp(augmented_matrix * h)\n",
    "\n",
    "    # Extract discrete LTI system matrices\n",
    "    A_h = exp_matrix[1:size(A, 1), 1:size(A, 2)]\n",
    "    B_h = exp_matrix[1:size(A, 1), size(A, 2)+1:end]\n",
    "\n",
    "    return A_h, B_h\n",
    "end\n",
    "\n",
    "# Extract discrete LTI system matrices\n",
    "A_cts = [0.0 1.0; -1.0 -0.1]\n",
    "B_cts = [0.0; 1.0]\n",
    "h = 0.1  # Time step\n",
    "A, B = continuous_to_discrete(A_cts, B_cts, h)"
   ]
  },
  {
   "cell_type": "markdown",
   "id": "cd5285d8",
   "metadata": {},
   "source": [
    "- Let's create a 2D state.\n",
    "\\begin{equation}\n",
    "    z = \\begin{bmatrix} x \\\\ \\dot{x} \\\\ y \\\\ \\dot{y} \\end{bmatrix}\n",
    "\\end{equation}"
   ]
  },
  {
   "cell_type": "code",
   "execution_count": null,
   "id": "7b1685d0",
   "metadata": {},
   "outputs": [],
   "source": [
    "Axy = I(2) ⊗ A\n",
    "Bxy = [B zeros(2); zeros(2) B]\n",
    "\n",
    "C = hcat([Axy^n * Bxy for n in 0:size(Axy, 1)-1]...)"
   ]
  },
  {
   "cell_type": "code",
   "execution_count": null,
   "id": "fe041d9f",
   "metadata": {},
   "outputs": [],
   "source": [
    "rank(C)"
   ]
  },
  {
   "cell_type": "code",
   "execution_count": null,
   "id": "9e0bc462",
   "metadata": {},
   "outputs": [],
   "source": [
    "Axy = I(2) ⊗ A\n",
    "\n",
    "# Directly move the X particle only\n",
    "Bxy = [[1; 0] zeros(2); [0; 1] zeros(2)]\n",
    "\n",
    "C = hcat([Axy^n * Bxy for n in 0:size(Axy, 1)-1]...)"
   ]
  },
  {
   "cell_type": "code",
   "execution_count": null,
   "id": "a8e63de0",
   "metadata": {},
   "outputs": [],
   "source": [
    "rank(C)"
   ]
  },
  {
   "cell_type": "markdown",
   "id": "0b696599",
   "metadata": {},
   "source": [
    "What about quantum systems? They are nonlinear.\n",
    "\n",
    "- BCH\n",
    "\\begin{equation}\n",
    "    e^{X} e^{Y} = e^{X + Y + \\tfrac{1}{2} [X, Y] + \\tfrac{1}{12} ([X, [X, Y]] + [Y, [Y, X]])} \n",
    "\\end{equation}\n",
    "\n",
    "- Collect commutators, forming the **Dynamical Lie algebra**."
   ]
  },
  {
   "cell_type": "markdown",
   "id": "7e3aa92c",
   "metadata": {},
   "source": [
    "- Quick check: How can we test for linear dependence?"
   ]
  },
  {
   "cell_type": "code",
   "execution_count": null,
   "id": "b7f7b6da",
   "metadata": {},
   "outputs": [],
   "source": [
    "# Linearly dependent: QR decomposition has a zero on diagonal \n",
    "H_drives = [PAULIS.X, PAULIS.Y]\n",
    "# H_drives = [PAULIS.X, PAULIS.X]\n",
    "\n",
    "M = stack(vec.(H_drives))\n",
    "qr(M).R"
   ]
  },
  {
   "cell_type": "markdown",
   "id": "600b295a",
   "metadata": {},
   "source": [
    "- Quick check: What about systems with drift?"
   ]
  },
  {
   "cell_type": "markdown",
   "id": "2c04778e",
   "metadata": {},
   "source": [
    "# II. Demos\n",
    "-----"
   ]
  },
  {
   "cell_type": "code",
   "execution_count": null,
   "id": "fe85fb7d",
   "metadata": {},
   "outputs": [],
   "source": []
  },
  {
   "cell_type": "markdown",
   "id": "1a2dc177",
   "metadata": {},
   "source": [
    "From the IPOPT documentation (https://coin-or.github.io/Ipopt/OUTPUT.html):\n",
    "\n",
    "- **inf_pr**: The unscaled constraint violation at the current point. This quantity is the infinity-norm (max) of the (unscaled) constraints ( gL≤g(x)≤gU in (NLP)). During the restoration phase, this value remains the constraint violation of the original problem at the current point. The option inf_pr_output can be used to switch to the printing of a different quantity.\n",
    "\n",
    "- **inf_du**: The scaled dual infeasibility at the current point. This quantity measure the infinity-norm (max) of the internal dual infeasibility, Eq. (4a) in the implementation paper [12], including inequality constraints reformulated using slack variables and problem scaling. During the restoration phase, this is the value of the dual infeasibility for the restoration phase problem.\n",
    "\n",
    "- **lg(mu)**: log10 of the value of the barrier parameter μ.\n",
    "\n",
    "- **||d||**: The infinity norm (max) of the primal step (for the original variables x and the internal slack variables s). During the restoration phase, this value includes the values of additional variables, p and n (see Eq. (30) in [12]).\n",
    "\n",
    "- **lg(rg)**: log10 of the value of the regularization term for the Hessian of the Lagrangian in the augmented system ( δw in Eq. (26) and Section 3.1 in [12]). A dash (\"-\") indicates that no regularization was done.\n",
    "\n",
    "- **alpha_du**: The stepsize for the dual variables ( αzk in Eq. (14c) in [12])."
   ]
  },
  {
   "cell_type": "markdown",
   "id": "b2ad6c62",
   "metadata": {},
   "source": []
  }
 ],
 "metadata": {
  "kernelspec": {
   "display_name": "Julia 1.11.5",
   "language": "julia",
   "name": "julia-1.11"
  },
  "language_info": {
   "file_extension": ".jl",
   "mimetype": "application/julia",
   "name": "julia",
   "version": "1.11.5"
  }
 },
 "nbformat": 4,
 "nbformat_minor": 5
}
