{
 "cells": [
  {
   "cell_type": "code",
   "execution_count": null,
   "id": "d9eb588e",
   "metadata": {
    "vscode": {
     "languageId": "plaintext"
    }
   },
   "outputs": [],
   "source": []
  },
  {
   "cell_type": "markdown",
   "id": "0d328ddf",
   "metadata": {},
   "source": [
    "# Getting started\n",
    "-----"
   ]
  },
  {
   "cell_type": "markdown",
   "id": "f92dc327",
   "metadata": {},
   "source": [
    "## Review\n",
    "- Direct optimal control had a number of advantages."
   ]
  },
  {
   "cell_type": "markdown",
   "id": "9b6d83bd",
   "metadata": {},
   "source": []
  },
  {
   "cell_type": "markdown",
   "id": "ac6e2a23",
   "metadata": {},
   "source": []
  }
 ],
 "metadata": {
  "language_info": {
   "name": "python"
  }
 },
 "nbformat": 4,
 "nbformat_minor": 5
}
