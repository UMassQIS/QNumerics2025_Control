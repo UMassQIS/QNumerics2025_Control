{
 "cells": [
  {
   "cell_type": "markdown",
   "id": "0d328ddf",
   "metadata": {},
   "source": [
    "# Getting started\n",
    "-----"
   ]
  },
  {
   "cell_type": "markdown",
   "id": "f92dc327",
   "metadata": {},
   "source": [
    "## Review\n",
    "- _Second order methods_ are important: We should always do this.\n",
    "- Problem structure gave us a way to solve optimal control problems efficiently, with \"shooting\" or \"sparsity\".\n",
    "- Direct optimal control is best if we aren't worried about real-time deployment.\n",
    "- Recall the Newton's method with equality constraints, and the KKT system"
   ]
  },
  {
   "cell_type": "markdown",
   "id": "9b6d83bd",
   "metadata": {},
   "source": [
    "## Goals\n",
    "- We can go in two directions:\n",
    "    1. second-order indirect (iLQR, DDP)\n",
    "    2. second-order direct (Direct Collocation, Multiple Shooting).\n",
    "- We will focus on second-order direct."
   ]
  },
  {
   "cell_type": "markdown",
   "id": "ac6e2a23",
   "metadata": {},
   "source": [
    "# I. Nonlinear Programming\n",
    "-----"
   ]
  },
  {
   "cell_type": "markdown",
   "id": "3a881de1",
   "metadata": {},
   "source": [
    "- A nonlinear program is a cost, equality constraint, and inequality constraint,\n",
    "\\begin{align}\n",
    "    \\min_z &\\quad f(z) \\\\\n",
    "    \\text{s.t.}&\\quad c(z) = 0 \\\\\n",
    "    &\\quad d(z) \\le 0\n",
    "\\end{align}\n",
    "\n",
    "- Grab an off-the-shelf solver: IPOPT (free), SNOPT, KNITRO (commercial)"
   ]
  },
  {
   "cell_type": "markdown",
   "id": "cbae6a6b",
   "metadata": {},
   "source": [
    "## SQP (Sequential Quadratic Progamming)"
   ]
  },
  {
   "cell_type": "markdown",
   "id": "4efb0393",
   "metadata": {},
   "source": [
    "- Take a second order Taylor expansion of the cost and linearize the constraints (locally about a _guess_):\n",
    "\n",
    "\\begin{align}\n",
    "    \\min_z &\\quad J(z) + g \\Delta z + \\tfrac{1}{2} \\Delta z^T H \\Delta z \\\\\n",
    "    \\text{s.t.}&\\quad c(z) + C \\Delta z = 0 \\\\\n",
    "    &\\quad d(z) + D \\Delta z \\le 0\n",
    "\\end{align}\n",
    "\n",
    "- Lagrangian, $\\mathcal{L}(z, \\lambda, \\mu) = J(z) + \\lambda^T c(z) + \\mu^T d(x)$\n",
    "- Gradient: $g = \\frac{\\partial \\mathcal{L}}{\\partial z}$, Hessian: $H = \\frac{\\partial^2 \\mathcal{L}}{\\partial z^2}$, Jacobians: $C = \\frac{\\partial c}{\\partial z}$, $D = \\frac{\\partial d}{\\partial z}$\n",
    "- Solve a QP to compute the primal-dual search direction, \n",
    "\\begin{equation}\n",
    "    \\Delta s = \\begin{bmatrix} \n",
    "        \\Delta z \\\\ \\Delta \\lambda \\\\ \\Delta \\mu\n",
    "    \\end{bmatrix}\n",
    "\\end{equation}"
   ]
  },
  {
   "cell_type": "markdown",
   "id": "b3c43b75",
   "metadata": {},
   "source": [
    "### Comments\n",
    "- Play lots of tricks to leverage _sparsity_.\n",
    "- $\\text{SQP} \\subset \\text{SCP}$: Sequential _Convex_ Programming puts constraints directly into the solver, without linearization.\n",
    "- We don't actually need rollouts: _Direct Collocation_ maximally leverages this constraint structure. "
   ]
  },
  {
   "cell_type": "markdown",
   "id": "8bb19b9f",
   "metadata": {},
   "source": [
    "### Splines\n",
    "\n",
    "- Cubic splines,\n",
    "\\begin{align}\n",
    "    x(t) &= a_0 + a_1 t + a_2 t^2 + a_3 t^3 \\\\\n",
    "    \\dot{x}(t) &= \\phantom{a_0 + } a_1 + 2 a_2 t + 3 a_t^2\n",
    "\\end{align}\n",
    "\n",
    "- _Hermite splines_ use the left and right endpoint ($x_n = x(t)$, $x_{n+1}=x(t + h)$), and their derivatives,\n",
    "\n",
    "\\begin{align}\n",
    "    \\begin{bmatrix}\n",
    "        1 & 0 & 0 & 0 \\\\\n",
    "        0 & 1 & 0 & 0 \\\\\n",
    "        1 & h & h^2 & h^3 \\\\\n",
    "        0 & 1 & 2h & 3 h^2\n",
    "    \\end{bmatrix}\n",
    "    \\begin{bmatrix} a_0 \\\\ a_1 \\\\ a_2 \\\\ a_3 \\end{bmatrix}\n",
    "    &= \n",
    "    \\begin{bmatrix} x_n \\\\ \\dot{x}_n \\\\ x_{n+1} \\\\ \\dot{x}_{n+1} \\end{bmatrix} \\\\\n",
    "\\Rightarrow\n",
    "    \\begin{bmatrix}\n",
    "        1 & 0 & 0 & 0 \\\\\n",
    "        0 & 1 & 0 & 0 \\\\\n",
    "        -\\tfrac{3}{h^2} & -\\tfrac{2}{h} & \\tfrac{3}{h^2} & -\\tfrac{1}{h} \\\\\n",
    "        \\tfrac{2}{h^3} & \\tfrac{1}{h^2} & -\\tfrac{2}{h^3} & \\tfrac{1}{h^2}\n",
    "    \\end{bmatrix}\n",
    "    \\begin{bmatrix} x_n \\\\ \\dot{x}_n \\\\ x_{n+1} \\\\ \\dot{x}_{n+1} \\end{bmatrix}\n",
    "    &= \n",
    "    \\begin{bmatrix} a_0 \\\\ a_1 \\\\ a_2 \\\\ a_3 \\end{bmatrix}\n",
    "\\end{align}\n",
    "\n",
    "- The _collocation point_ enforces the dynamics constraint using the value at some other point (the spline required free variables!),\n",
    "\\begin{align}\n",
    "    x(t + \\tfrac{h}{2}) &= \\tfrac{1}{2}(x_n + x_{n+1}) + \\tfrac{h}{8} (\\dot{x}_n - \\dot{x}_{n+1}) \\\\\n",
    "    &= \\tfrac{1}{2}(x_n + x_{n+1}) + \\tfrac{h}{8} (f(x_n, u_n) - f(x_{n+1}, u_{n+1}))\\\\\n",
    "    \\, \\\\\n",
    "    u(t + \\tfrac{h}{2}) &= \\tfrac{1}{2} (u_n + u_{n+1}) \\\\\n",
    "    \\, \\\\\n",
    "    \\dot{x}(t + \\tfrac{h}{2}) &= -\\tfrac{3}{2h}(x_n - x_{n+1}) - \\tfrac{1}{4} (\\dot{x}_n + \\dot{x}_{n+1}) \\\\\n",
    "     &= -\\tfrac{3}{2h}(x_n - x_{n+1}) - \\tfrac{1}{4} (f(x_n, u_n) + f(x_{n+1}, u_{n+1})) \n",
    "\\end{align}"
   ]
  },
  {
   "cell_type": "markdown",
   "id": "94a5963d",
   "metadata": {},
   "source": [
    "- Putting the dynamics into the constraint,\n",
    "\\begin{align}\n",
    "    C_n(z) &= C_n(x_n, u_n, x_{n+1}, u_{n+1}) \\\\\n",
    "    &= f(x_{n + 1/2}, u_{n + 1/2}) - \\dot{x}_{n + 1/2} \\\\\n",
    "    &= f\\left( \\tfrac{1}{2}(x_n + x_{n+1}) + \\tfrac{h}{8} (f(x_n, u_n) - f(x_{n+1}, u_{n+1})), \\tfrac{1}{2} (u_n + u_{n+1}) \\right) - \\left(-\\tfrac{3}{2h}(x_n - x_{n+1}) - \\tfrac{1}{4} (f(x_n, u_n) + f(x_{n+1}, u_{n+1})) \\right) \\overset{!}{=} 0\n",
    "\\end{align}\n",
    "\n",
    "- Achieves 3rd order accuracy (RK4 is Runge-Kutta 4th Order).\n",
    "\n",
    "- Requires fewer $f$ calls than RK3. Exercise: How?"
   ]
  }
 ],
 "metadata": {
  "language_info": {
   "name": "python"
  }
 },
 "nbformat": 4,
 "nbformat_minor": 5
}
