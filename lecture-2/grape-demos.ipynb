{
 "cells": [
  {
   "cell_type": "code",
   "execution_count": null,
   "id": "846ea9ae",
   "metadata": {},
   "outputs": [],
   "source": [
    "using Piccolo\n",
    "using Optim\n",
    "using SparseArrays"
   ]
  },
  {
   "cell_type": "markdown",
   "id": "853a55d9",
   "metadata": {},
   "source": [
    "# Exercise goals\n",
    "-----\n",
    "- Learn the quantum isomorphisms that map variables to real-valued state vectors\n",
    "- Study how gradient descent and Newton's method can be used to optimize quantum controls. "
   ]
  },
  {
   "cell_type": "markdown",
   "id": "64d380b7",
   "metadata": {},
   "source": [
    "# I. Isomorphisms\n",
    "-----"
   ]
  },
  {
   "cell_type": "markdown",
   "id": "114fbe0b",
   "metadata": {},
   "source": [
    "- The standard quantum states are _kets_, $|\\psi\\rangle$, and _Unitaries_, $U$.\n",
    "- Open quantum system require _density matrices_, $\\rho$, and _quantum channels_, $\\Phi$.\n",
    "- Standard quantum states have an open system counterpart,\n",
    "\n",
    "\\begin{align}\n",
    "    \\text{closed} &\\longrightarrow \\text{open}  \\\\ \\hline\n",
    "    |\\psi\\rangle &\\longrightarrow |\\psi\\rangle \\langle \\psi | \\\\\n",
    "    U &\\longrightarrow U \\cdot U^\\dagger \n",
    "\\end{align}"
   ]
  },
  {
   "cell_type": "markdown",
   "id": "cd563b4b",
   "metadata": {},
   "source": [
    "🚧 ⚠️ If you are seeing a lot of boxes like Ũ⃗, it is _very_ useful to have the [JuliaMono](https://juliamono.netlify.app/) fonts for Piccolo. Install and [change the default font family](https://code.visualstudio.com/docs/terminal/appearance)."
   ]
  },
  {
   "cell_type": "code",
   "execution_count": null,
   "id": "3b7bb457",
   "metadata": {},
   "outputs": [],
   "source": [
    "ψ = [1; 2] + im * [3; 4]\n",
    "ψ̃ = ket_to_iso(ψ)"
   ]
  },
  {
   "cell_type": "code",
   "execution_count": null,
   "id": "578438df",
   "metadata": {},
   "outputs": [],
   "source": [
    "iso_to_ket(ψ̃)"
   ]
  },
  {
   "cell_type": "code",
   "execution_count": null,
   "id": "4977ff4e",
   "metadata": {},
   "outputs": [],
   "source": [
    "# We often need to convert a complex matrix U to a real vector, Ũ⃗. \n",
    "U = [1 5; 2 6] + im * [3 7; 4 8]"
   ]
  },
  {
   "cell_type": "code",
   "execution_count": null,
   "id": "9327da6b",
   "metadata": {},
   "outputs": [],
   "source": [
    "Ũ⃗ = operator_to_iso_vec(U)"
   ]
  },
  {
   "cell_type": "code",
   "execution_count": null,
   "id": "7b68b275",
   "metadata": {},
   "outputs": [],
   "source": [
    "iso_vec_to_operator(Ũ⃗)"
   ]
  },
  {
   "cell_type": "code",
   "execution_count": null,
   "id": "de5702a6",
   "metadata": {},
   "outputs": [],
   "source": [
    "# Warning: The isomorphism `density_to_iso_vec` is not the same as `operator_to_iso_vec`.\n",
    "ρ = [1 2; 3 4] + im * [5 6; 7 8]\n",
    "ρ̃⃗ = density_to_iso_vec(ρ)"
   ]
  },
  {
   "cell_type": "markdown",
   "id": "a7ff284e",
   "metadata": {},
   "source": [
    "# II. Quantum dynamics\n",
    "-----"
   ]
  },
  {
   "cell_type": "markdown",
   "id": "415568b2",
   "metadata": {},
   "source": [
    "- Let's flip a qubit from the ground state to the excited state.\n",
    "- Introduce the isomorphisms that make quantum dynamics real-valued.  \n",
    "- Use [PiccoloQuantumObjects](https://docs.harmoniqs.co/PiccoloQuantumObjects/dev/) to make a quantum system.\n",
    "- Use a rollout to integrate the quantum system forward in time."
   ]
  },
  {
   "cell_type": "markdown",
   "id": "415d8422",
   "metadata": {},
   "source": [
    "\\begin{equation}\n",
    "    H(u(t)) = \\underbrace{u_1(t) XI + u_2(t) YI}_\\text{qubit 1} \n",
    "    + \\underbrace{u_3(t) IX + u_4(t) IY}_\\text{qubit 2} + \\underbrace{u_5(t) XX}_\\text{coupling}\n",
    "\\end{equation}"
   ]
  },
  {
   "cell_type": "code",
   "execution_count": null,
   "id": "48dbe9f6",
   "metadata": {},
   "outputs": [],
   "source": [
    "H_drives = [\n",
    "    PAULIS.X ⊗ PAULIS.I,\n",
    "    PAULIS.Y ⊗ PAULIS.I,\n",
    "    PAULIS.I ⊗ PAULIS.X,\n",
    "    PAULIS.I ⊗ PAULIS.Y,\n",
    "    PAULIS.X ⊗ PAULIS.X\n",
    "]\n",
    "\n",
    "system = QuantumSystem(H_drives)\n",
    "\n",
    "# Entangling gate\n",
    "U_goal = GATES.CX\n",
    "\n",
    "# Timing information (e.g. 20 ns superconducting qubit gate)\n",
    "T = 50\n",
    "Δt = 0.4"
   ]
  },
  {
   "cell_type": "markdown",
   "id": "47ccb6c0",
   "metadata": {},
   "source": [
    "- Quantum systems contain the operators we need"
   ]
  },
  {
   "cell_type": "code",
   "execution_count": null,
   "id": "36df839d",
   "metadata": {},
   "outputs": [],
   "source": [
    "get_drift(system)"
   ]
  },
  {
   "cell_type": "code",
   "execution_count": null,
   "id": "42f76e9f",
   "metadata": {},
   "outputs": [],
   "source": [
    "get_drives(system)"
   ]
  },
  {
   "cell_type": "markdown",
   "id": "1422b4de",
   "metadata": {},
   "source": [
    "- We can use a system to perform a rollout."
   ]
  },
  {
   "cell_type": "code",
   "execution_count": null,
   "id": "809446cf",
   "metadata": {},
   "outputs": [],
   "source": [
    "unitary_rollout(controls, timesteps, system)"
   ]
  },
  {
   "cell_type": "code",
   "execution_count": null,
   "id": "214df1ee",
   "metadata": {},
   "outputs": [],
   "source": [
    "unitary_rollout_fidelity(U_goal, controls, timesteps, system)"
   ]
  },
  {
   "cell_type": "code",
   "execution_count": null,
   "id": "abeea88d",
   "metadata": {},
   "outputs": [],
   "source": [
    "# Piccolo (we'll learn more about this later)\n",
    "prob = UnitarySmoothPulseProblem(system, U_goal, T, Δt);\n",
    "\n",
    "# save these initial controls for later\n",
    "a_init = prob.trajectory.a\n",
    "series(get_times(prob.trajectory), a_init)"
   ]
  },
  {
   "cell_type": "code",
   "execution_count": null,
   "id": "1960b1f9",
   "metadata": {},
   "outputs": [],
   "source": [
    "solve!(prob, max_iter=100, print_level=1, verbose=false)\n",
    "\n",
    "ℱ = 1 - unitary_rollout_fidelity(prob.trajectory, system)\n",
    "\n",
    "println(\"The infidelity is \", 1 - ℱ)"
   ]
  },
  {
   "cell_type": "code",
   "execution_count": null,
   "id": "ffb5db31",
   "metadata": {},
   "outputs": [],
   "source": [
    "a_final = prob.trajectory.a\n",
    "series(get_times(prob.trajectory), a_final)"
   ]
  },
  {
   "cell_type": "markdown",
   "id": "b5ec4905",
   "metadata": {},
   "source": [
    "# III. GRAPE\n",
    "-----"
   ]
  },
  {
   "cell_type": "markdown",
   "id": "67039ab2",
   "metadata": {},
   "source": [
    "The [GRAPE algorithm](https://doi.org/10.1016/j.jmr.2004.11.004) comes from NMR in 2004, and there is a [Julia version](https://github.com/JuliaQuantumControl/GRAPE.jl). We'll reproduce GRAPE in this example."
   ]
  },
  {
   "cell_type": "code",
   "execution_count": null,
   "id": "ead51198",
   "metadata": {},
   "outputs": [],
   "source": [
    "timesteps = fill(Δt, T)\n",
    "\n",
    "GRAPE(controls) = unitary_rollout_fidelity(U_goal, controls, timesteps, system)"
   ]
  },
  {
   "cell_type": "markdown",
   "id": "1cbd0c65",
   "metadata": {
    "vscode": {
     "languageId": "plaintext"
    }
   },
   "source": [
    "## Automatic differentiation\n",
    "- It's quick to test! Compare different algorithms, e.g., `Newton()`, `GradientDescent()`, `LBFGS()`\n",
    "- If you switch from gradient descent to a quasi-Newton method, you get to [write another paper](https://www.sciencedirect.com/science/article/abs/pii/S1090780711002552)."
   ]
  },
  {
   "cell_type": "code",
   "execution_count": null,
   "id": "9d30d33f",
   "metadata": {},
   "outputs": [],
   "source": [
    "result_GRAPE = optimize(GRAPE, a_init, LBFGS())"
   ]
  },
  {
   "cell_type": "code",
   "execution_count": null,
   "id": "16275aa1",
   "metadata": {},
   "outputs": [],
   "source": [
    "# It's hard to tell the difference between the initial value and the converged solution!\n",
    "series(cumsum(timesteps), result_GRAPE.minimizer)"
   ]
  },
  {
   "cell_type": "markdown",
   "id": "25bd9bc5",
   "metadata": {
    "vscode": {
     "languageId": "plaintext"
    }
   },
   "source": [
    "## Analytic gradients\n",
    "- We can combine forward and backward rollouts to compute the gradients,\n",
    "\\begin{align}\n",
    "    \\frac{\\partial U(T)}{\\partial u_k(t)} &= U(T, t) (-i H_k \\Delta t) U(t) \\\\\n",
    "   \\Rightarrow \\langle\\psi_\\text{goal} | \\frac{\\partial U(T)}{\\partial u_k(t)} |\\psi_\\text{init.}\\rangle &= -i \\Delta t \\langle\\psi_\\text{goal}^\\text{bwd.}(t) | H_k |\\psi_\\text{init.}^\\text{fwd.}(t) \\rangle.\n",
    "\\end{align}\n"
   ]
  },
  {
   "cell_type": "code",
   "execution_count": null,
   "id": "574774ff",
   "metadata": {},
   "outputs": [],
   "source": [
    "# TODO: Calculate the gradient of a state infidelity using forward-mode autodiff, and compare it to the analytic gradient hinted at here."
   ]
  },
  {
   "cell_type": "markdown",
   "id": "60ad46e6",
   "metadata": {},
   "source": [
    "# III. Function Spaces\n",
    "-----"
   ]
  },
  {
   "cell_type": "markdown",
   "id": "3e2fd427",
   "metadata": {},
   "source": [
    "- Pick a function basis for the controls and optimize the coefficients. Some choices are [trig functions](https://journals.aps.org/pra/abstract/10.1103/PhysRevA.84.022326) or [Slepians](https://journals.aps.org/pra/abstract/10.1103/PhysRevA.97.062346). There were [comparative studies](https://journals.aps.org/pra/abstract/10.1103/PhysRevA.84.022305).\n",
    "- Our optimization parameters are now coefficients of the basis,\n",
    "\\begin{equation}\n",
    "    u(t) = u_0 + \\sum_{j=1}^{n} c_j a_j(t)\n",
    "\\end{equation}\n",
    "- The modes $a_j(t)$ stay fixed, and the coefficients $c_j$ are optimized."
   ]
  },
  {
   "cell_type": "code",
   "execution_count": null,
   "id": "3435a7e7",
   "metadata": {},
   "outputs": [],
   "source": [
    "# First n=5 entries in a Fourier series, including the constant term\n",
    "n = 5\n",
    "fourier_series = [cos.(π * j * (0:T-1) / T .- π/2) for j in 0:n-1]\n",
    "\n",
    "function get_controls(coefficients)\n",
    "    a(c) = sum(cⱼ * aⱼ for (cⱼ, aⱼ) in zip(c, fourier_series))\n",
    "    return stack([a(c) for c in eachrow(coefficients)], dims=1)\n",
    "end\n",
    "\n",
    "function CRAB(coefficients)\n",
    "    controls = get_controls(coefficients)\n",
    "    return unitary_rollout_fidelity(U_goal, controls, timesteps, system)\n",
    "end"
   ]
  },
  {
   "cell_type": "code",
   "execution_count": null,
   "id": "569f8db4",
   "metadata": {},
   "outputs": [],
   "source": [
    "Random.seed!(1234)\n",
    "c_init = rand(system.n_drives, n)\n",
    "result_CRAB = optimize(CRAB, c_init, LBFGS(); autodiff = :forward)\n",
    "\n",
    "series(cumsum(timesteps), get_controls(result_CRAB.minimizer))"
   ]
  },
  {
   "cell_type": "markdown",
   "id": "30c1e30f",
   "metadata": {},
   "source": [
    "- These shapes are a lot nicer! But performance depends a lot on the expressivity and initial condition."
   ]
  },
  {
   "cell_type": "code",
   "execution_count": null,
   "id": "c5ce16d1",
   "metadata": {},
   "outputs": [],
   "source": [
    "Random.seed!(5678)\n",
    "c_init = randn(system.n_drives, n)\n",
    "result_CRAB = optimize(CRAB, c_init, LBFGS(); autodiff = :forward)\n",
    "series(cumsum(timesteps), get_controls(result_CRAB.minimizer))"
   ]
  },
  {
   "cell_type": "code",
   "execution_count": null,
   "id": "cc7a99dc",
   "metadata": {},
   "outputs": [],
   "source": []
  },
  {
   "cell_type": "markdown",
   "id": "731c4aae",
   "metadata": {},
   "source": [
    "## Control filters"
   ]
  },
  {
   "cell_type": "markdown",
   "id": "b9b886bb",
   "metadata": {},
   "source": [
    "- Add spectral filters to the controls"
   ]
  },
  {
   "cell_type": "code",
   "execution_count": null,
   "id": "454aa49d",
   "metadata": {},
   "outputs": [],
   "source": [
    "# TODO: Consider"
   ]
  },
  {
   "cell_type": "markdown",
   "id": "578ece74",
   "metadata": {},
   "source": [
    "# IV. States in costs\n",
    "-----"
   ]
  },
  {
   "cell_type": "markdown",
   "id": "f53dca8b",
   "metadata": {},
   "source": [
    "- Let's switch to a transmon, which has more than two levels and can be _leaky_.\n",
    "\n",
    "\\begin{equation}\n",
    "H(u(t)) = \\tfrac{1}{2} \\eta a^\\dagger a^\\dagger a a + u_1(t) (a + a^\\dagger) - i u_2(t) (a - a^\\dagger)\n",
    "\\end{equation}\n",
    "\n",
    "- Add a leakage penalty. Notice that working with states can be awkward."
   ]
  },
  {
   "cell_type": "code",
   "execution_count": null,
   "id": "ab5a7572",
   "metadata": {},
   "outputs": [],
   "source": [
    "a = annihilate(4)\n",
    "X = a + a'\n",
    "Y = -im * (a - a')\n",
    "η = 0.1\n",
    "H_drift = 1/2 * a'a'a*a\n",
    "H_drives = [X, Y]\n",
    "system = QuantumSystem(H_drives)"
   ]
  },
  {
   "cell_type": "code",
   "execution_count": null,
   "id": "fe483454",
   "metadata": {},
   "outputs": [],
   "source": [
    "# TODO: \n",
    "# - Add an L2 penalty to states that are not in the computational basis.\n",
    "# - Use a modified GRAPE cost to penalize leakage while maintaining fidelity.\n",
    "# - Study how the leakage changes with the anharmonicity η."
   ]
  }
 ],
 "metadata": {
  "kernelspec": {
   "display_name": "Julia 1.11.5",
   "language": "julia",
   "name": "julia-1.11"
  },
  "language_info": {
   "file_extension": ".jl",
   "mimetype": "application/julia",
   "name": "julia",
   "version": "1.11.5"
  }
 },
 "nbformat": 4,
 "nbformat_minor": 5
}
