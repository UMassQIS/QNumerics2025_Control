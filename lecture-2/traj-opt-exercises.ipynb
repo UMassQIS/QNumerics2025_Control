{
 "cells": [
  {
   "cell_type": "code",
   "execution_count": null,
   "id": "58e46ea7",
   "metadata": {
    "vscode": {
     "languageId": "julia"
    }
   },
   "outputs": [],
   "source": []
  },
  {
   "cell_type": "markdown",
   "id": "d1f22cfc",
   "metadata": {},
   "source": [
    "# Bellman's principle\n",
    "-----"
   ]
  },
  {
   "cell_type": "markdown",
   "id": "93d0b134",
   "metadata": {},
   "source": [
    "Policy gradient"
   ]
  },
  {
   "cell_type": "markdown",
   "id": "d4f0dc3d",
   "metadata": {},
   "source": []
  }
 ],
 "metadata": {
  "language_info": {
   "name": "python"
  }
 },
 "nbformat": 4,
 "nbformat_minor": 5
}
