{
 "cells": [
  {
   "cell_type": "code",
   "execution_count": null,
   "id": "58e46ea7",
   "metadata": {
    "vscode": {
     "languageId": "julia"
    }
   },
   "outputs": [],
   "source": []
  },
  {
   "cell_type": "markdown",
   "id": "d1f22cfc",
   "metadata": {},
   "source": [
    "# Bellman's principle\n",
    "-----"
   ]
  },
  {
   "cell_type": "markdown",
   "id": "93d0b134",
   "metadata": {},
   "source": [
    "- Use Bellman's principle to solve the LQR problem\n",
    "- Connect to policy gradients"
   ]
  },
  {
   "cell_type": "code",
   "execution_count": null,
   "id": "b0acb7e0",
   "metadata": {
    "vscode": {
     "languageId": "julia"
    }
   },
   "outputs": [],
   "source": []
  },
  {
   "cell_type": "markdown",
   "id": "d4f0dc3d",
   "metadata": {},
   "source": [
    "# Neural ODEs\n",
    "-----"
   ]
  },
  {
   "cell_type": "markdown",
   "id": "2702676f",
   "metadata": {},
   "source": [
    "- Pontryagin, revisited. Check out this [SciML note](https://docs.sciml.ai/DiffEqFlux/stable/examples/neural_ode/)."
   ]
  },
  {
   "cell_type": "code",
   "execution_count": null,
   "id": "c3b42cf8",
   "metadata": {
    "vscode": {
     "languageId": "julia"
    }
   },
   "outputs": [],
   "source": []
  }
 ],
 "metadata": {
  "language_info": {
   "name": "python"
  }
 },
 "nbformat": 4,
 "nbformat_minor": 5
}
