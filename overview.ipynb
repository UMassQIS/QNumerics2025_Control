{
 "cells": [
  {
   "cell_type": "code",
   "execution_count": null,
   "id": "62a3da4e",
   "metadata": {
    "vscode": {
     "languageId": "julia"
    }
   },
   "outputs": [],
   "source": []
  },
  {
   "cell_type": "markdown",
   "id": "79b4f604",
   "metadata": {},
   "source": [
    "[Figure 1](https://arxiv.org/abs/2403.00532): Growth in the number of scientific articles $N_{QOC}$ (red curve) with the keywords “quantum” and “optimal control” published each year on the internet, during the period 1990-2022, and ratio between NQOC and the number of scientific articles $N_{Q}$ with the keywords “quantum” (blue curve). Despite an increasing number of annual publications, the ratio decreased during the period 2000-2015 (the number of publications in quantum science grew very rapidly during these years), but since 2018 the trend has reversed. At the beginning of 2023 (not shown in the graph), the trend is confirmedm with almost 1\\% of publications concerning QOC. Data were collected using Google Scholar.\n",
    "\n"
   ]
  },
  {
   "cell_type": "markdown",
   "id": "82637265",
   "metadata": {},
   "source": []
  }
 ],
 "metadata": {
  "language_info": {
   "name": "python"
  }
 },
 "nbformat": 4,
 "nbformat_minor": 5
}
